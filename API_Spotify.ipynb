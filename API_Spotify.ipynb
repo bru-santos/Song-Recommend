{
 "cells": [
  {
   "cell_type": "code",
   "execution_count": 5,
   "id": "6eb8f731",
   "metadata": {},
   "outputs": [],
   "source": [
    "import spotipy\n",
    "from spotipy.oauth2 import SpotifyClientCredentials"
   ]
  },
  {
   "cell_type": "code",
   "execution_count": 6,
   "id": "370ca05f",
   "metadata": {},
   "outputs": [],
   "source": [
    "c_id =\"3cdaae92842748f4b4e8491566562cd2\"\n",
    "c_se =\"0830a5e0552b4a579299b3d4f1f5cf4c\""
   ]
  },
  {
   "cell_type": "code",
   "execution_count": 7,
   "id": "314c8ce3",
   "metadata": {},
   "outputs": [],
   "source": [
    "sp = spotipy.Spotify(auth_manager=SpotifyClientCredentials(client_id=c_id, client_secret=c_se))"
   ]
  },
  {
   "cell_type": "code",
   "execution_count": null,
   "id": "f14d51a2",
   "metadata": {},
   "outputs": [],
   "source": []
  }
 ],
 "metadata": {
  "kernelspec": {
   "display_name": "Python 3 (ipykernel)",
   "language": "python",
   "name": "python3"
  },
  "language_info": {
   "codemirror_mode": {
    "name": "ipython",
    "version": 3
   },
   "file_extension": ".py",
   "mimetype": "text/x-python",
   "name": "python",
   "nbconvert_exporter": "python",
   "pygments_lexer": "ipython3",
   "version": "3.10.9"
  }
 },
 "nbformat": 4,
 "nbformat_minor": 5
}
