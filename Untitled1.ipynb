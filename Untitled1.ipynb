{
 "cells": [
  {
   "cell_type": "code",
   "execution_count": 3,
   "id": "2887c513",
   "metadata": {},
   "outputs": [],
   "source": [
    "import config"
   ]
  },
  {
   "cell_type": "code",
   "execution_count": 4,
   "id": "be3683d1",
   "metadata": {},
   "outputs": [],
   "source": [
    "import spotipy\n",
    "import pandas as pd\n",
    "import json\n",
    "from spotipy.oauth2 import SpotifyClientCredentials"
   ]
  },
  {
   "cell_type": "code",
   "execution_count": 5,
   "id": "e3dd2f2f",
   "metadata": {},
   "outputs": [],
   "source": [
    "sp = spotipy.Spotify(auth_manager=SpotifyClientCredentials(client_id= config.client_id,\n",
    "                                                           client_secret= config.client_secret))"
   ]
  },
  {
   "cell_type": "code",
   "execution_count": 7,
   "id": "a04bf28f",
   "metadata": {},
   "outputs": [],
   "source": [
    "playlist_ids = ['37i9dQZF1DX3MU5XUozve7', '37i9dQZF1DWVdgXTbYm2r0', '37i9dQZF1DXcF6B6QPhFDv', \n",
    "                '37i9dQZF1DXcfWvNFKxjDo', '37i9dQZF1DXaLaoaQqrfyO', '37i9dQZF1DWZJIhAWlsiOv', \n",
    "                '37i9dQZF1DWTR4ZOXTfd9K', '37i9dQZF1DXaUDcU6KDCj4', '37i9dQZF1DWWOaP4H0w5b0', \n",
    "                '37i9dQZF1DWYMvTygsLWlG', '37i9dQZF1DX9tPFwDMOaN1', '37i9dQZF1DWX7rdRjOECPW', \n",
    "                '2gcYSwUOBfhYI52ACzlPko', '4rnleEAOdmFAbRcNCgZMpY']\n"
   ]
  },
  {
   "cell_type": "code",
   "execution_count": 8,
   "id": "f4a4b8e3",
   "metadata": {},
   "outputs": [
    {
     "data": {
      "text/plain": [
       "['37i9dQZF1DX3MU5XUozve7',\n",
       " '37i9dQZF1DWVdgXTbYm2r0',\n",
       " '37i9dQZF1DXcF6B6QPhFDv',\n",
       " '37i9dQZF1DXcfWvNFKxjDo',\n",
       " '37i9dQZF1DXaLaoaQqrfyO',\n",
       " '37i9dQZF1DWZJIhAWlsiOv',\n",
       " '37i9dQZF1DWTR4ZOXTfd9K',\n",
       " '37i9dQZF1DXaUDcU6KDCj4',\n",
       " '37i9dQZF1DWWOaP4H0w5b0',\n",
       " '37i9dQZF1DWYMvTygsLWlG',\n",
       " '37i9dQZF1DX9tPFwDMOaN1',\n",
       " '37i9dQZF1DWX7rdRjOECPW',\n",
       " '2gcYSwUOBfhYI52ACzlPko',\n",
       " '4rnleEAOdmFAbRcNCgZMpY']"
      ]
     },
     "execution_count": 8,
     "metadata": {},
     "output_type": "execute_result"
    }
   ],
   "source": [
    "playlist_ids"
   ]
  },
  {
   "cell_type": "code",
   "execution_count": 9,
   "id": "b87598ff",
   "metadata": {},
   "outputs": [],
   "source": [
    "tracks_data = []"
   ]
  },
  {
   "cell_type": "code",
   "execution_count": 10,
   "id": "8a56fda1",
   "metadata": {},
   "outputs": [],
   "source": [
    "for playlist_id in playlist_ids:\n",
    "    results = sp.playlist_tracks(playlist_id)\n",
    "    tracks = results['items']\n",
    "    \n",
    "    while results['next']:\n",
    "        results = sp.next(results)\n",
    "        tracks.extend(results['items'])\n",
    "    \n",
    "    for track in tracks:\n",
    "        playlist_info = {\n",
    "            'Playlist_ID': playlist_id,\n",
    "            'Track_ID': track['track']['id'],\n",
    "            'Track_Name': track['track']['name'],\n",
    "            'Artist_Name': track['track']['artists'][0]['name'],\n",
    "            'Album_Name': track['track']['album']['name'],\n",
    "            'Release_Date': track['track']['album']['release_date']\n",
    "        }\n",
    "        tracks_data.append(playlist_info)\n"
   ]
  },
  {
   "cell_type": "code",
   "execution_count": 11,
   "id": "13de6763",
   "metadata": {},
   "outputs": [],
   "source": [
    "df = pd.DataFrame(tracks_data)"
   ]
  },
  {
   "cell_type": "code",
   "execution_count": 12,
   "id": "11d04e68",
   "metadata": {},
   "outputs": [
    {
     "data": {
      "text/html": [
       "<div>\n",
       "<style scoped>\n",
       "    .dataframe tbody tr th:only-of-type {\n",
       "        vertical-align: middle;\n",
       "    }\n",
       "\n",
       "    .dataframe tbody tr th {\n",
       "        vertical-align: top;\n",
       "    }\n",
       "\n",
       "    .dataframe thead th {\n",
       "        text-align: right;\n",
       "    }\n",
       "</style>\n",
       "<table border=\"1\" class=\"dataframe\">\n",
       "  <thead>\n",
       "    <tr style=\"text-align: right;\">\n",
       "      <th></th>\n",
       "      <th>Playlist_ID</th>\n",
       "      <th>Track_ID</th>\n",
       "      <th>Track_Name</th>\n",
       "      <th>Artist_Name</th>\n",
       "      <th>Album_Name</th>\n",
       "      <th>Release_Date</th>\n",
       "    </tr>\n",
       "  </thead>\n",
       "  <tbody>\n",
       "    <tr>\n",
       "      <th>0</th>\n",
       "      <td>37i9dQZF1DX3MU5XUozve7</td>\n",
       "      <td>6GG73Jik4jUlQCkKg9JuGO</td>\n",
       "      <td>The Middle</td>\n",
       "      <td>Jimmy Eat World</td>\n",
       "      <td>Bleed American</td>\n",
       "      <td>2001-07-17</td>\n",
       "    </tr>\n",
       "    <tr>\n",
       "      <th>1</th>\n",
       "      <td>37i9dQZF1DX3MU5XUozve7</td>\n",
       "      <td>6TfBA04WJ3X1d1wXhaCFVT</td>\n",
       "      <td>You're Gonna Go Far, Kid</td>\n",
       "      <td>The Offspring</td>\n",
       "      <td>Rise And Fall, Rage And Grace</td>\n",
       "      <td>2008-06-17</td>\n",
       "    </tr>\n",
       "    <tr>\n",
       "      <th>2</th>\n",
       "      <td>37i9dQZF1DX3MU5XUozve7</td>\n",
       "      <td>2hnMS47jN0etwvFPzYk11f</td>\n",
       "      <td>Santeria</td>\n",
       "      <td>Sublime</td>\n",
       "      <td>Sublime</td>\n",
       "      <td>1996-07-30</td>\n",
       "    </tr>\n",
       "    <tr>\n",
       "      <th>3</th>\n",
       "      <td>37i9dQZF1DX3MU5XUozve7</td>\n",
       "      <td>3Zwu2K0Qa5sT6teCCHPShP</td>\n",
       "      <td>Thnks fr th Mmrs</td>\n",
       "      <td>Fall Out Boy</td>\n",
       "      <td>Infinity On High</td>\n",
       "      <td>2007-01-01</td>\n",
       "    </tr>\n",
       "    <tr>\n",
       "      <th>4</th>\n",
       "      <td>37i9dQZF1DX3MU5XUozve7</td>\n",
       "      <td>1vcxF91pWs9uNwDROuiCPB</td>\n",
       "      <td>Savior</td>\n",
       "      <td>Rise Against</td>\n",
       "      <td>Appeal To Reason</td>\n",
       "      <td>2008-01-01</td>\n",
       "    </tr>\n",
       "    <tr>\n",
       "      <th>...</th>\n",
       "      <td>...</td>\n",
       "      <td>...</td>\n",
       "      <td>...</td>\n",
       "      <td>...</td>\n",
       "      <td>...</td>\n",
       "      <td>...</td>\n",
       "    </tr>\n",
       "    <tr>\n",
       "      <th>8446</th>\n",
       "      <td>4rnleEAOdmFAbRcNCgZMpY</td>\n",
       "      <td>4Zcz6saEkOII3PlXd9gN3o</td>\n",
       "      <td>Hermit the Frog</td>\n",
       "      <td>MARINA</td>\n",
       "      <td>The Family Jewels</td>\n",
       "      <td>2010-02-15</td>\n",
       "    </tr>\n",
       "    <tr>\n",
       "      <th>8447</th>\n",
       "      <td>4rnleEAOdmFAbRcNCgZMpY</td>\n",
       "      <td>61KpQadow081I2AsbeLcsb</td>\n",
       "      <td>deja vu</td>\n",
       "      <td>Olivia Rodrigo</td>\n",
       "      <td>deja vu</td>\n",
       "      <td>2021-04-01</td>\n",
       "    </tr>\n",
       "    <tr>\n",
       "      <th>8448</th>\n",
       "      <td>4rnleEAOdmFAbRcNCgZMpY</td>\n",
       "      <td>5yorXJWdBan1Vlh116ZtQ7</td>\n",
       "      <td>WHOLE LOTTA MONEY</td>\n",
       "      <td>BIA</td>\n",
       "      <td>FOR CERTAIN</td>\n",
       "      <td>2020-12-11</td>\n",
       "    </tr>\n",
       "    <tr>\n",
       "      <th>8449</th>\n",
       "      <td>4rnleEAOdmFAbRcNCgZMpY</td>\n",
       "      <td>11ZulcYY4lowvcQm4oe3VJ</td>\n",
       "      <td>Slumber Party (feat. Princess Nokia)</td>\n",
       "      <td>Ashnikko</td>\n",
       "      <td>DEMIDEVIL</td>\n",
       "      <td>2021-01-15</td>\n",
       "    </tr>\n",
       "    <tr>\n",
       "      <th>8450</th>\n",
       "      <td>4rnleEAOdmFAbRcNCgZMpY</td>\n",
       "      <td>6tDDoYIxWvMLTdKpjFkc1B</td>\n",
       "      <td>telepatía</td>\n",
       "      <td>Kali Uchis</td>\n",
       "      <td>Sin Miedo (del Amor y Otros Demonios) ∞</td>\n",
       "      <td>2020-12-04</td>\n",
       "    </tr>\n",
       "  </tbody>\n",
       "</table>\n",
       "<p>8451 rows × 6 columns</p>\n",
       "</div>"
      ],
      "text/plain": [
       "                 Playlist_ID                Track_ID  \\\n",
       "0     37i9dQZF1DX3MU5XUozve7  6GG73Jik4jUlQCkKg9JuGO   \n",
       "1     37i9dQZF1DX3MU5XUozve7  6TfBA04WJ3X1d1wXhaCFVT   \n",
       "2     37i9dQZF1DX3MU5XUozve7  2hnMS47jN0etwvFPzYk11f   \n",
       "3     37i9dQZF1DX3MU5XUozve7  3Zwu2K0Qa5sT6teCCHPShP   \n",
       "4     37i9dQZF1DX3MU5XUozve7  1vcxF91pWs9uNwDROuiCPB   \n",
       "...                      ...                     ...   \n",
       "8446  4rnleEAOdmFAbRcNCgZMpY  4Zcz6saEkOII3PlXd9gN3o   \n",
       "8447  4rnleEAOdmFAbRcNCgZMpY  61KpQadow081I2AsbeLcsb   \n",
       "8448  4rnleEAOdmFAbRcNCgZMpY  5yorXJWdBan1Vlh116ZtQ7   \n",
       "8449  4rnleEAOdmFAbRcNCgZMpY  11ZulcYY4lowvcQm4oe3VJ   \n",
       "8450  4rnleEAOdmFAbRcNCgZMpY  6tDDoYIxWvMLTdKpjFkc1B   \n",
       "\n",
       "                                Track_Name      Artist_Name  \\\n",
       "0                               The Middle  Jimmy Eat World   \n",
       "1                 You're Gonna Go Far, Kid    The Offspring   \n",
       "2                                 Santeria          Sublime   \n",
       "3                         Thnks fr th Mmrs     Fall Out Boy   \n",
       "4                                   Savior     Rise Against   \n",
       "...                                    ...              ...   \n",
       "8446                       Hermit the Frog           MARINA   \n",
       "8447                               deja vu   Olivia Rodrigo   \n",
       "8448                     WHOLE LOTTA MONEY              BIA   \n",
       "8449  Slumber Party (feat. Princess Nokia)         Ashnikko   \n",
       "8450                             telepatía       Kali Uchis   \n",
       "\n",
       "                                   Album_Name Release_Date  \n",
       "0                              Bleed American   2001-07-17  \n",
       "1               Rise And Fall, Rage And Grace   2008-06-17  \n",
       "2                                     Sublime   1996-07-30  \n",
       "3                            Infinity On High   2007-01-01  \n",
       "4                            Appeal To Reason   2008-01-01  \n",
       "...                                       ...          ...  \n",
       "8446                        The Family Jewels   2010-02-15  \n",
       "8447                                  deja vu   2021-04-01  \n",
       "8448                              FOR CERTAIN   2020-12-11  \n",
       "8449                                DEMIDEVIL   2021-01-15  \n",
       "8450  Sin Miedo (del Amor y Otros Demonios) ∞   2020-12-04  \n",
       "\n",
       "[8451 rows x 6 columns]"
      ]
     },
     "execution_count": 12,
     "metadata": {},
     "output_type": "execute_result"
    }
   ],
   "source": [
    "df"
   ]
  },
  {
   "cell_type": "code",
   "execution_count": 17,
   "id": "66e3a571",
   "metadata": {},
   "outputs": [
    {
     "ename": "TypeError",
     "evalue": "Spotify.user_playlist_tracks() takes from 1 to 7 positional arguments but 16 were given",
     "output_type": "error",
     "traceback": [
      "\u001b[0;31m---------------------------------------------------------------------------\u001b[0m",
      "\u001b[0;31mTypeError\u001b[0m                                 Traceback (most recent call last)",
      "Cell \u001b[0;32mIn[17], line 1\u001b[0m\n\u001b[0;32m----> 1\u001b[0m playlist \u001b[38;5;241m=\u001b[39m \u001b[43msp\u001b[49m\u001b[38;5;241;43m.\u001b[39;49m\u001b[43muser_playlist_tracks\u001b[49m\u001b[43m(\u001b[49m\u001b[38;5;124;43m\"\u001b[39;49m\u001b[38;5;124;43mspotify\u001b[39;49m\u001b[38;5;124;43m\"\u001b[39;49m\u001b[43m,\u001b[49m\u001b[43m \u001b[49m\u001b[38;5;124;43m\"\u001b[39;49m\u001b[38;5;124;43m37i9dQZF1DX3MU5XUozve7\u001b[39;49m\u001b[38;5;124;43m\"\u001b[39;49m\u001b[43m,\u001b[49m\u001b[43m \u001b[49m\u001b[38;5;124;43m\"\u001b[39;49m\u001b[38;5;124;43m37i9dQZF1DWVdgXTbYm2r0\u001b[39;49m\u001b[38;5;124;43m\"\u001b[39;49m\u001b[43m,\u001b[49m\u001b[43m \u001b[49m\n\u001b[1;32m      2\u001b[0m \u001b[43m                                   \u001b[49m\u001b[38;5;124;43m\"\u001b[39;49m\u001b[38;5;124;43m37i9dQZF1DXcF6B6QPhFDv\u001b[39;49m\u001b[38;5;124;43m\"\u001b[39;49m\u001b[43m,\u001b[49m\u001b[43m \u001b[49m\u001b[38;5;124;43m\"\u001b[39;49m\u001b[38;5;124;43m37i9dQZF1DXcfWvNFKxjDo\u001b[39;49m\u001b[38;5;124;43m\"\u001b[39;49m\u001b[43m,\u001b[49m\u001b[43m \u001b[49m\u001b[38;5;124;43m\"\u001b[39;49m\u001b[38;5;124;43m37i9dQZF1DXaLaoaQqrfyO\u001b[39;49m\u001b[38;5;124;43m\"\u001b[39;49m\u001b[43m,\u001b[49m\n\u001b[1;32m      3\u001b[0m \u001b[43m                                   \u001b[49m\u001b[38;5;124;43m\"\u001b[39;49m\u001b[38;5;124;43m37i9dQZF1DWZJIhAWlsiOv\u001b[39;49m\u001b[38;5;124;43m\"\u001b[39;49m\u001b[43m,\u001b[49m\u001b[43m \u001b[49m\u001b[38;5;124;43m\"\u001b[39;49m\u001b[38;5;124;43m37i9dQZF1DWTR4ZOXTfd9K\u001b[39;49m\u001b[38;5;124;43m\"\u001b[39;49m\u001b[43m,\u001b[49m\u001b[43m \u001b[49m\u001b[38;5;124;43m\"\u001b[39;49m\u001b[38;5;124;43m37i9dQZF1DXaUDcU6KDCj4\u001b[39;49m\u001b[38;5;124;43m\"\u001b[39;49m\u001b[43m,\u001b[49m\n\u001b[1;32m      4\u001b[0m \u001b[43m                                   \u001b[49m\u001b[38;5;124;43m\"\u001b[39;49m\u001b[38;5;124;43m37i9dQZF1DWWOaP4H0w5b0\u001b[39;49m\u001b[38;5;124;43m\"\u001b[39;49m\u001b[43m,\u001b[49m\u001b[43m \u001b[49m\u001b[38;5;124;43m\"\u001b[39;49m\u001b[38;5;124;43m37i9dQZF1DWYMvTygsLWlG\u001b[39;49m\u001b[38;5;124;43m\"\u001b[39;49m\u001b[43m,\u001b[49m\u001b[43m \u001b[49m\u001b[38;5;124;43m\"\u001b[39;49m\u001b[38;5;124;43m37i9dQZF1DX9tPFwDMOaN1\u001b[39;49m\u001b[38;5;124;43m\"\u001b[39;49m\u001b[43m,\u001b[49m\n\u001b[1;32m      5\u001b[0m \u001b[43m                                   \u001b[49m\u001b[38;5;124;43m\"\u001b[39;49m\u001b[38;5;124;43m37i9dQZF1DWX7rdRjOECPW\u001b[39;49m\u001b[38;5;124;43m\"\u001b[39;49m\u001b[43m,\u001b[49m\u001b[43m \u001b[49m\u001b[38;5;124;43m\"\u001b[39;49m\u001b[38;5;124;43m2gcYSwUOBfhYI52ACzlPko\u001b[39;49m\u001b[38;5;124;43m\"\u001b[39;49m\u001b[43m,\u001b[49m\u001b[43m \u001b[49m\u001b[38;5;124;43m\"\u001b[39;49m\u001b[38;5;124;43m4rnleEAOdmFAbRcNCgZMpY\u001b[39;49m\u001b[38;5;124;43m\"\u001b[39;49m\u001b[43m)\u001b[49m\n",
      "\u001b[0;31mTypeError\u001b[0m: Spotify.user_playlist_tracks() takes from 1 to 7 positional arguments but 16 were given"
     ]
    }
   ],
   "source": [
    "playlist = sp.user_playlist_tracks(\"spotify\", \"37i9dQZF1DX3MU5XUozve7\", \"37i9dQZF1DWVdgXTbYm2r0\", \n",
    "                                   \"37i9dQZF1DXcF6B6QPhFDv\", \"37i9dQZF1DXcfWvNFKxjDo\", \"37i9dQZF1DXaLaoaQqrfyO\",\n",
    "                                   \"37i9dQZF1DWZJIhAWlsiOv\", \"37i9dQZF1DWTR4ZOXTfd9K\", \"37i9dQZF1DXaUDcU6KDCj4\",\n",
    "                                   \"37i9dQZF1DWWOaP4H0w5b0\", \"37i9dQZF1DWYMvTygsLWlG\", \"37i9dQZF1DX9tPFwDMOaN1\",\n",
    "                                   \"37i9dQZF1DWX7rdRjOECPW\", \"2gcYSwUOBfhYI52ACzlPko\", \"4rnleEAOdmFAbRcNCgZMpY\")"
   ]
  },
  {
   "cell_type": "code",
   "execution_count": null,
   "id": "5b6271b7",
   "metadata": {},
   "outputs": [],
   "source": []
  }
 ],
 "metadata": {
  "kernelspec": {
   "display_name": "Python 3 (ipykernel)",
   "language": "python",
   "name": "python3"
  },
  "language_info": {
   "codemirror_mode": {
    "name": "ipython",
    "version": 3
   },
   "file_extension": ".py",
   "mimetype": "text/x-python",
   "name": "python",
   "nbconvert_exporter": "python",
   "pygments_lexer": "ipython3",
   "version": "3.10.9"
  }
 },
 "nbformat": 4,
 "nbformat_minor": 5
}
